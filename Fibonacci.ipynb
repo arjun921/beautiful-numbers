{
 "cells": [
  {
   "cell_type": "code",
   "execution_count": null,
   "metadata": {},
   "outputs": [],
   "source": [
    "from bokeh.plotting import figure, output_file, show"
   ]
  },
  {
   "cell_type": "code",
   "execution_count": 26,
   "metadata": {},
   "outputs": [],
   "source": [
    "fibonacci_sequence = [0,1]\n",
    "\n",
    "n_iterations = 100 \n",
    "\n",
    "_ = [fibonacci_sequence.append(fibonacci_sequence[-1]+fibonacci_sequence[-2]) for x in range(n_iterations)]"
   ]
  },
  {
   "cell_type": "code",
   "execution_count": 28,
   "metadata": {},
   "outputs": [],
   "source": [
    "x = [x for x in range(len(fibonacci_sequence))]\n",
    "y = fibonacci_sequence"
   ]
  },
  {
   "cell_type": "code",
   "execution_count": 31,
   "metadata": {},
   "outputs": [],
   "source": [
    "output_file('fibonacci.html')\n",
    "p = figure(plot_width=1000, plot_height=400)\n",
    "p.line(x,y, line_width=2)\n",
    "p.left[0].formatter.use_scientific = False # <---- This forces showing 500000000 instead of 5.000e+8 as you want\n",
    "show(p)"
   ]
  }
 ],
 "metadata": {
  "kernelspec": {
   "display_name": "Python 3",
   "language": "python",
   "name": "python3"
  },
  "language_info": {
   "codemirror_mode": {
    "name": "ipython",
    "version": 3
   },
   "file_extension": ".py",
   "mimetype": "text/x-python",
   "name": "python",
   "nbconvert_exporter": "python",
   "pygments_lexer": "ipython3",
   "version": "3.6.8"
  }
 },
 "nbformat": 4,
 "nbformat_minor": 2
}
